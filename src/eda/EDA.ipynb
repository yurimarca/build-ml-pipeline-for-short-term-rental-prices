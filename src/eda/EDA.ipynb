{
 "cells": [
  {
   "cell_type": "markdown",
   "id": "f8a8bbdb-b677-47dc-a48a-a7d4dbb14a4b",
   "metadata": {},
   "source": [
    "### Get data and use auto analysis"
   ]
  },
  {
   "cell_type": "code",
   "execution_count": 1,
   "id": "90ed3292-1462-48fc-ada4-4883cec7ff22",
   "metadata": {},
   "outputs": [
    {
     "name": "stderr",
     "output_type": "stream",
     "text": [
      "\u001b[34m\u001b[1mwandb\u001b[0m: Using wandb-core as the SDK backend.  Please refer to https://wandb.me/wandb-core for more information.\n",
      "\u001b[34m\u001b[1mwandb\u001b[0m: Currently logged in as: \u001b[33myurimarca\u001b[0m (\u001b[33myurimarca-ai\u001b[0m). Use \u001b[1m`wandb login --relogin`\u001b[0m to force relogin\n"
     ]
    },
    {
     "data": {
      "text/html": [
       "Tracking run with wandb version 0.19.1"
      ],
      "text/plain": [
       "<IPython.core.display.HTML object>"
      ]
     },
     "metadata": {},
     "output_type": "display_data"
    },
    {
     "data": {
      "text/html": [
       "Run data is saved locally in <code>/home/ymarca/Code/build-ml-pipeline-for-short-term-rental-prices/src/eda/wandb/run-20250106_174329-0uaqzso2</code>"
      ],
      "text/plain": [
       "<IPython.core.display.HTML object>"
      ]
     },
     "metadata": {},
     "output_type": "display_data"
    },
    {
     "data": {
      "text/html": [
       "Syncing run <strong><a href='https://wandb.ai/yurimarca-ai/nyc_airbnb/runs/0uaqzso2' target=\"_blank\">atomic-yogurt-14</a></strong> to <a href='https://wandb.ai/yurimarca-ai/nyc_airbnb' target=\"_blank\">Weights & Biases</a> (<a href='https://wandb.me/developer-guide' target=\"_blank\">docs</a>)<br>"
      ],
      "text/plain": [
       "<IPython.core.display.HTML object>"
      ]
     },
     "metadata": {},
     "output_type": "display_data"
    },
    {
     "data": {
      "text/html": [
       " View project at <a href='https://wandb.ai/yurimarca-ai/nyc_airbnb' target=\"_blank\">https://wandb.ai/yurimarca-ai/nyc_airbnb</a>"
      ],
      "text/plain": [
       "<IPython.core.display.HTML object>"
      ]
     },
     "metadata": {},
     "output_type": "display_data"
    },
    {
     "data": {
      "text/html": [
       " View run at <a href='https://wandb.ai/yurimarca-ai/nyc_airbnb/runs/0uaqzso2' target=\"_blank\">https://wandb.ai/yurimarca-ai/nyc_airbnb/runs/0uaqzso2</a>"
      ],
      "text/plain": [
       "<IPython.core.display.HTML object>"
      ]
     },
     "metadata": {},
     "output_type": "display_data"
    }
   ],
   "source": [
    "import wandb\n",
    "import pandas as pd\n",
    "\n",
    "run = wandb.init(project=\"nyc_airbnb\", group=\"eda\", save_code=True)\n",
    "local_path = wandb.use_artifact(\"sample.csv:latest\").file()\n",
    "df = pd.read_csv(local_path)"
   ]
  },
  {
   "cell_type": "code",
   "execution_count": 2,
   "id": "09a67c21-793c-4d02-97cd-5a05d7b7f1c8",
   "metadata": {},
   "outputs": [
    {
     "data": {
      "text/html": [
       "<div>\n",
       "<style scoped>\n",
       "    .dataframe tbody tr th:only-of-type {\n",
       "        vertical-align: middle;\n",
       "    }\n",
       "\n",
       "    .dataframe tbody tr th {\n",
       "        vertical-align: top;\n",
       "    }\n",
       "\n",
       "    .dataframe thead th {\n",
       "        text-align: right;\n",
       "    }\n",
       "</style>\n",
       "<table border=\"1\" class=\"dataframe\">\n",
       "  <thead>\n",
       "    <tr style=\"text-align: right;\">\n",
       "      <th></th>\n",
       "      <th>id</th>\n",
       "      <th>name</th>\n",
       "      <th>host_id</th>\n",
       "      <th>host_name</th>\n",
       "      <th>neighbourhood_group</th>\n",
       "      <th>neighbourhood</th>\n",
       "      <th>latitude</th>\n",
       "      <th>longitude</th>\n",
       "      <th>room_type</th>\n",
       "      <th>price</th>\n",
       "      <th>minimum_nights</th>\n",
       "      <th>number_of_reviews</th>\n",
       "      <th>last_review</th>\n",
       "      <th>reviews_per_month</th>\n",
       "      <th>calculated_host_listings_count</th>\n",
       "      <th>availability_365</th>\n",
       "    </tr>\n",
       "  </thead>\n",
       "  <tbody>\n",
       "    <tr>\n",
       "      <th>0</th>\n",
       "      <td>9138664</td>\n",
       "      <td>Private Lg Room 15 min to Manhattan</td>\n",
       "      <td>47594947</td>\n",
       "      <td>Iris</td>\n",
       "      <td>Queens</td>\n",
       "      <td>Sunnyside</td>\n",
       "      <td>40.74271</td>\n",
       "      <td>-73.92493</td>\n",
       "      <td>Private room</td>\n",
       "      <td>74</td>\n",
       "      <td>2</td>\n",
       "      <td>6</td>\n",
       "      <td>2019-05-26</td>\n",
       "      <td>0.13</td>\n",
       "      <td>1</td>\n",
       "      <td>5</td>\n",
       "    </tr>\n",
       "    <tr>\n",
       "      <th>1</th>\n",
       "      <td>31444015</td>\n",
       "      <td>TIME SQUARE CHARMING ONE BED IN HELL'S KITCHEN...</td>\n",
       "      <td>8523790</td>\n",
       "      <td>Johlex</td>\n",
       "      <td>Manhattan</td>\n",
       "      <td>Hell's Kitchen</td>\n",
       "      <td>40.76682</td>\n",
       "      <td>-73.98878</td>\n",
       "      <td>Entire home/apt</td>\n",
       "      <td>170</td>\n",
       "      <td>3</td>\n",
       "      <td>0</td>\n",
       "      <td>NaN</td>\n",
       "      <td>NaN</td>\n",
       "      <td>1</td>\n",
       "      <td>188</td>\n",
       "    </tr>\n",
       "    <tr>\n",
       "      <th>2</th>\n",
       "      <td>8741020</td>\n",
       "      <td>Voted #1 Location Quintessential 1BR W Village...</td>\n",
       "      <td>45854238</td>\n",
       "      <td>John</td>\n",
       "      <td>Manhattan</td>\n",
       "      <td>West Village</td>\n",
       "      <td>40.73631</td>\n",
       "      <td>-74.00611</td>\n",
       "      <td>Entire home/apt</td>\n",
       "      <td>245</td>\n",
       "      <td>3</td>\n",
       "      <td>51</td>\n",
       "      <td>2018-09-19</td>\n",
       "      <td>1.12</td>\n",
       "      <td>1</td>\n",
       "      <td>0</td>\n",
       "    </tr>\n",
       "    <tr>\n",
       "      <th>3</th>\n",
       "      <td>34602077</td>\n",
       "      <td>Spacious 1 bedroom apartment 15min from Manhattan</td>\n",
       "      <td>261055465</td>\n",
       "      <td>Regan</td>\n",
       "      <td>Queens</td>\n",
       "      <td>Astoria</td>\n",
       "      <td>40.76424</td>\n",
       "      <td>-73.92351</td>\n",
       "      <td>Entire home/apt</td>\n",
       "      <td>125</td>\n",
       "      <td>3</td>\n",
       "      <td>1</td>\n",
       "      <td>2019-05-24</td>\n",
       "      <td>0.65</td>\n",
       "      <td>1</td>\n",
       "      <td>13</td>\n",
       "    </tr>\n",
       "    <tr>\n",
       "      <th>4</th>\n",
       "      <td>23203149</td>\n",
       "      <td>Big beautiful bedroom in huge Bushwick apartment</td>\n",
       "      <td>143460</td>\n",
       "      <td>Megan</td>\n",
       "      <td>Brooklyn</td>\n",
       "      <td>Bushwick</td>\n",
       "      <td>40.69839</td>\n",
       "      <td>-73.92044</td>\n",
       "      <td>Private room</td>\n",
       "      <td>65</td>\n",
       "      <td>2</td>\n",
       "      <td>8</td>\n",
       "      <td>2019-06-23</td>\n",
       "      <td>0.52</td>\n",
       "      <td>2</td>\n",
       "      <td>8</td>\n",
       "    </tr>\n",
       "  </tbody>\n",
       "</table>\n",
       "</div>"
      ],
      "text/plain": [
       "         id                                               name    host_id  \\\n",
       "0   9138664                Private Lg Room 15 min to Manhattan   47594947   \n",
       "1  31444015  TIME SQUARE CHARMING ONE BED IN HELL'S KITCHEN...    8523790   \n",
       "2   8741020  Voted #1 Location Quintessential 1BR W Village...   45854238   \n",
       "3  34602077  Spacious 1 bedroom apartment 15min from Manhattan  261055465   \n",
       "4  23203149   Big beautiful bedroom in huge Bushwick apartment     143460   \n",
       "\n",
       "  host_name neighbourhood_group   neighbourhood  latitude  longitude  \\\n",
       "0      Iris              Queens       Sunnyside  40.74271  -73.92493   \n",
       "1    Johlex           Manhattan  Hell's Kitchen  40.76682  -73.98878   \n",
       "2      John           Manhattan    West Village  40.73631  -74.00611   \n",
       "3     Regan              Queens         Astoria  40.76424  -73.92351   \n",
       "4     Megan            Brooklyn        Bushwick  40.69839  -73.92044   \n",
       "\n",
       "         room_type  price  minimum_nights  number_of_reviews last_review  \\\n",
       "0     Private room     74               2                  6  2019-05-26   \n",
       "1  Entire home/apt    170               3                  0         NaN   \n",
       "2  Entire home/apt    245               3                 51  2018-09-19   \n",
       "3  Entire home/apt    125               3                  1  2019-05-24   \n",
       "4     Private room     65               2                  8  2019-06-23   \n",
       "\n",
       "   reviews_per_month  calculated_host_listings_count  availability_365  \n",
       "0               0.13                               1                 5  \n",
       "1                NaN                               1               188  \n",
       "2               1.12                               1                 0  \n",
       "3               0.65                               1                13  \n",
       "4               0.52                               2                 8  "
      ]
     },
     "execution_count": 2,
     "metadata": {},
     "output_type": "execute_result"
    }
   ],
   "source": [
    "df.head()"
   ]
  },
  {
   "cell_type": "code",
   "execution_count": 3,
   "id": "b9b1ac54-9e0c-4cba-b0f2-4b08cd54a307",
   "metadata": {},
   "outputs": [
    {
     "data": {
      "text/html": [
       "<div>\n",
       "<style scoped>\n",
       "    .dataframe tbody tr th:only-of-type {\n",
       "        vertical-align: middle;\n",
       "    }\n",
       "\n",
       "    .dataframe tbody tr th {\n",
       "        vertical-align: top;\n",
       "    }\n",
       "\n",
       "    .dataframe thead th {\n",
       "        text-align: right;\n",
       "    }\n",
       "</style>\n",
       "<table border=\"1\" class=\"dataframe\">\n",
       "  <thead>\n",
       "    <tr style=\"text-align: right;\">\n",
       "      <th></th>\n",
       "      <th>name</th>\n",
       "      <th>host_name</th>\n",
       "      <th>neighbourhood_group</th>\n",
       "      <th>neighbourhood</th>\n",
       "      <th>room_type</th>\n",
       "      <th>last_review</th>\n",
       "    </tr>\n",
       "  </thead>\n",
       "  <tbody>\n",
       "    <tr>\n",
       "      <th>count</th>\n",
       "      <td>19993</td>\n",
       "      <td>19992</td>\n",
       "      <td>20000</td>\n",
       "      <td>20000</td>\n",
       "      <td>20000</td>\n",
       "      <td>15877</td>\n",
       "    </tr>\n",
       "    <tr>\n",
       "      <th>unique</th>\n",
       "      <td>19768</td>\n",
       "      <td>6517</td>\n",
       "      <td>5</td>\n",
       "      <td>217</td>\n",
       "      <td>3</td>\n",
       "      <td>1507</td>\n",
       "    </tr>\n",
       "    <tr>\n",
       "      <th>top</th>\n",
       "      <td>Hillside Hotel</td>\n",
       "      <td>David</td>\n",
       "      <td>Manhattan</td>\n",
       "      <td>Williamsburg</td>\n",
       "      <td>Entire home/apt</td>\n",
       "      <td>2019-06-23</td>\n",
       "    </tr>\n",
       "    <tr>\n",
       "      <th>freq</th>\n",
       "      <td>7</td>\n",
       "      <td>170</td>\n",
       "      <td>8774</td>\n",
       "      <td>1580</td>\n",
       "      <td>10384</td>\n",
       "      <td>575</td>\n",
       "    </tr>\n",
       "  </tbody>\n",
       "</table>\n",
       "</div>"
      ],
      "text/plain": [
       "                  name host_name neighbourhood_group neighbourhood  \\\n",
       "count            19993     19992               20000         20000   \n",
       "unique           19768      6517                   5           217   \n",
       "top     Hillside Hotel     David           Manhattan  Williamsburg   \n",
       "freq                 7       170                8774          1580   \n",
       "\n",
       "              room_type last_review  \n",
       "count             20000       15877  \n",
       "unique                3        1507  \n",
       "top     Entire home/apt  2019-06-23  \n",
       "freq              10384         575  "
      ]
     },
     "execution_count": 3,
     "metadata": {},
     "output_type": "execute_result"
    }
   ],
   "source": [
    "df.describe(include=[object])"
   ]
  },
  {
   "cell_type": "code",
   "execution_count": 4,
   "id": "3dac3ea5-8a5f-48bf-a262-da80218308b4",
   "metadata": {},
   "outputs": [
    {
     "data": {
      "application/vnd.jupyter.widget-view+json": {
       "model_id": "4b58d507bf4349ac85481f780f8f0cfe",
       "version_major": 2,
       "version_minor": 0
      },
      "text/plain": [
       "Summarize dataset:   0%|          | 0/5 [00:00<?, ?it/s]"
      ]
     },
     "metadata": {},
     "output_type": "display_data"
    },
    {
     "data": {
      "application/vnd.jupyter.widget-view+json": {
       "model_id": "1bb5887c06b74dac8cfabce6aed6c231",
       "version_major": 2,
       "version_minor": 0
      },
      "text/plain": [
       "Generate report structure:   0%|          | 0/1 [00:00<?, ?it/s]"
      ]
     },
     "metadata": {},
     "output_type": "display_data"
    },
    {
     "data": {
      "application/vnd.jupyter.widget-view+json": {
       "model_id": "d1daa1c84bac46488c19ee1214a3d6ed",
       "version_major": 2,
       "version_minor": 0
      },
      "text/plain": [
       "Render widgets:   0%|          | 0/1 [00:00<?, ?it/s]"
      ]
     },
     "metadata": {},
     "output_type": "display_data"
    },
    {
     "data": {
      "application/vnd.jupyter.widget-view+json": {
       "model_id": "58c12e95178146df937beaabff125edb",
       "version_major": 2,
       "version_minor": 0
      },
      "text/plain": [
       "VBox(children=(Tab(children=(Tab(children=(GridBox(children=(VBox(children=(GridspecLayout(children=(HTML(valu…"
      ]
     },
     "metadata": {},
     "output_type": "display_data"
    }
   ],
   "source": [
    "import ydata_profiling\n",
    "\n",
    "profile = ydata_profiling.ProfileReport(df)\n",
    "profile.to_widgets()"
   ]
  },
  {
   "cell_type": "code",
   "execution_count": 5,
   "id": "f7bf920f-a3de-4750-a3ac-7e6334a56e27",
   "metadata": {},
   "outputs": [
    {
     "data": {
      "application/vnd.jupyter.widget-view+json": {
       "model_id": "2f8e7040a3ae480e9610e8e18ee9179b",
       "version_major": 2,
       "version_minor": 0
      },
      "text/plain": [
       "Render HTML:   0%|          | 0/1 [00:00<?, ?it/s]"
      ]
     },
     "metadata": {},
     "output_type": "display_data"
    },
    {
     "data": {
      "application/vnd.jupyter.widget-view+json": {
       "model_id": "a118c63788ac43d893f9b0d5e71cca90",
       "version_major": 2,
       "version_minor": 0
      },
      "text/plain": [
       "Export report to file:   0%|          | 0/1 [00:00<?, ?it/s]"
      ]
     },
     "metadata": {},
     "output_type": "display_data"
    },
    {
     "data": {
      "text/plain": [
       "<Artifact profile-report.html>"
      ]
     },
     "execution_count": 5,
     "metadata": {},
     "output_type": "execute_result"
    }
   ],
   "source": [
    "# Export the report to an HTML file so we can upload as an artifact\n",
    "filename = \"profile-report.html\"\n",
    "profile.to_file(filename)\n",
    "\n",
    "artifact = wandb.Artifact(\n",
    "    name=filename, \n",
    "    type=\"analysis\", \n",
    "    description=\"HTML file produced from ydata-profiling python package for data analysis.\"\n",
    ")\n",
    "artifact.add_file(filename)\n",
    "run.log_artifact(artifact)"
   ]
  },
  {
   "cell_type": "markdown",
   "id": "d968a26b-71b5-4285-a2e5-fb9642408695",
   "metadata": {},
   "source": [
    "- Sadly we cannot visualize html artifacts in W&B, which is possible using mlflow experiment tracking UI.\n",
    "- I tried to log the profile html file here, but I couldn't open in W&B."
   ]
  },
  {
   "cell_type": "markdown",
   "id": "bb85207b-a1ad-40e6-a3ad-4eb362641a78",
   "metadata": {},
   "source": [
    "### Alerts generated by the package\n",
    "\n",
    "- `host_id` is highly overall correlated with `id`\n",
    "- `latitude` is highly overall correlated with `neighbourhood_group`\n",
    "- `longitude` is highly overall correlated with `neighbourhood_group`\n",
    "- `number_of_reviews` is highly overall correlated with `reviews_per_month`\n",
    "- `last_review` has 4123 (20.6%) missing values\n",
    "- `reviews_per_month` has 4123 (20.6%) missing values\n",
    "- `minimum_nights` is highly skewed (γ1 = 25.17996962)\n",
    "- `number_of_reviews` has 4123 (20.6%) zeros\n",
    "- `availability_365` has 7176 (35.9%) zeros"
   ]
  },
  {
   "cell_type": "markdown",
   "id": "8c4c0d05-d493-4fe8-8e43-9362ca6b49fe",
   "metadata": {},
   "source": [
    "### Missing values"
   ]
  },
  {
   "cell_type": "code",
   "execution_count": 6,
   "id": "972d81f4-9018-4d0b-9f5c-abad96b80827",
   "metadata": {},
   "outputs": [
    {
     "data": {
      "text/plain": [
       "id                                   0\n",
       "name                                 7\n",
       "host_id                              0\n",
       "host_name                            8\n",
       "neighbourhood_group                  0\n",
       "neighbourhood                        0\n",
       "latitude                             0\n",
       "longitude                            0\n",
       "room_type                            0\n",
       "price                                0\n",
       "minimum_nights                       0\n",
       "number_of_reviews                    0\n",
       "last_review                       4123\n",
       "reviews_per_month                 4123\n",
       "calculated_host_listings_count       0\n",
       "availability_365                     0\n",
       "dtype: int64"
      ]
     },
     "execution_count": 6,
     "metadata": {},
     "output_type": "execute_result"
    }
   ],
   "source": [
    "df.isna().sum()"
   ]
  },
  {
   "cell_type": "code",
   "execution_count": 7,
   "id": "acff5f5b-6ee8-4fc8-ba86-2dd1172bb0dd",
   "metadata": {},
   "outputs": [
    {
     "name": "stdout",
     "output_type": "stream",
     "text": [
      "Missing cells (%): 2.5815625\n"
     ]
    }
   ],
   "source": [
    "print(f\"Missing cells (%): {df.isna().sum().sum()/(df.shape[0]*df.shape[1])*100}\")"
   ]
  },
  {
   "cell_type": "markdown",
   "id": "d33c780c-e120-4b75-8960-0c61bd21c3cf",
   "metadata": {},
   "source": [
    "### Feature correlation"
   ]
  },
  {
   "cell_type": "code",
   "execution_count": 8,
   "id": "852967fd-cd0e-4db9-9d42-992e48dca4e6",
   "metadata": {},
   "outputs": [
    {
     "data": {
      "text/plain": [
       "<Artifact corr.png>"
      ]
     },
     "execution_count": 8,
     "metadata": {},
     "output_type": "execute_result"
    }
   ],
   "source": [
    "import numpy as np\n",
    "import seaborn as sns\n",
    "import matplotlib.pyplot as plt\n",
    "\n",
    "# Select only numeric columns to generate correlation plot\n",
    "numeric_cols = df.select_dtypes(include=np.number).columns\n",
    "\n",
    "df_aux = df[numeric_cols]\n",
    "# Compute the correlation matrix\n",
    "corr = df_aux.corr()\n",
    "\n",
    "# Generate a mask for the upper triangle\n",
    "mask = np.triu(np.ones_like(corr, dtype=bool))\n",
    "\n",
    "# Set up the matplotlib figure\n",
    "f, ax = plt.subplots(figsize=(11, 9))\n",
    "\n",
    "# Generate a custom diverging colormap\n",
    "cmap = sns.diverging_palette(230, 20, as_cmap=True)\n",
    "\n",
    "# Draw the heatmap with the mask and correct aspect ratio\n",
    "sns.heatmap(corr, mask=mask, cmap=cmap, vmax=.3, center=0,\n",
    "            square=True, linewidths=.5, cbar_kws={\"shrink\": .5})\n",
    "\n",
    "filename = 'corr.png'\n",
    "\n",
    "plt.tight_layout()\n",
    "plt.savefig(filename)\n",
    "plt.close()\n",
    "\n",
    "artifact = wandb.Artifact(\n",
    "    name=filename, \n",
    "    type=\"report\", \n",
    "    description=\"Correlation between data features.\"\n",
    ")\n",
    "artifact.add_file(filename)\n",
    "run.log_artifact(artifact)"
   ]
  },
  {
   "cell_type": "markdown",
   "id": "b102051a-c2f1-4bbb-8dc5-ae72c2088ea7",
   "metadata": {},
   "source": [
    "### Price range"
   ]
  },
  {
   "cell_type": "code",
   "execution_count": 9,
   "id": "fe9cd7ac-f9c1-4e8e-8e40-7071116e124a",
   "metadata": {},
   "outputs": [
    {
     "data": {
      "text/plain": [
       "<Artifact price_hist.png>"
      ]
     },
     "execution_count": 9,
     "metadata": {},
     "output_type": "execute_result"
    }
   ],
   "source": [
    "# Plot price histogram\n",
    "filename = 'price_hist.png'\n",
    "\n",
    "sns.histplot(df['price'])\n",
    "plt.savefig(filename)\n",
    "plt.close()\n",
    "\n",
    "artifact = wandb.Artifact(\n",
    "    name=filename, \n",
    "    type=\"report\", \n",
    "    description=\"Price histogram.\"\n",
    ")\n",
    "artifact.add_file(filename)\n",
    "run.log_artifact(artifact)"
   ]
  },
  {
   "cell_type": "code",
   "execution_count": 10,
   "id": "e493ee05-c838-443d-b7aa-dbee16ac7214",
   "metadata": {},
   "outputs": [],
   "source": [
    "# Drop outliers\n",
    "min_price = 10\n",
    "max_price = 350\n",
    "idx = df['price'].between(min_price, max_price)\n",
    "df = df[idx].copy()"
   ]
  },
  {
   "cell_type": "code",
   "execution_count": 11,
   "id": "ab7e22ff-b3f0-40cf-bcca-bf2f886a2f25",
   "metadata": {},
   "outputs": [
    {
     "data": {
      "text/plain": [
       "<Artifact price_hist_range.png>"
      ]
     },
     "execution_count": 11,
     "metadata": {},
     "output_type": "execute_result"
    }
   ],
   "source": [
    "# Plot price histogram\n",
    "filename = 'price_hist_range.png'\n",
    "\n",
    "sns.histplot(df['price'])\n",
    "plt.savefig(filename)\n",
    "plt.close()\n",
    "\n",
    "artifact = wandb.Artifact(\n",
    "    name=filename, \n",
    "    type=\"report\", \n",
    "    description=\"Price histogram.\"\n",
    ")\n",
    "artifact.add_file(filename)\n",
    "run.log_artifact(artifact)"
   ]
  },
  {
   "cell_type": "code",
   "execution_count": 12,
   "id": "d7b9b2c2-0a63-4349-b8d7-1a2937169088",
   "metadata": {},
   "outputs": [
    {
     "data": {
      "text/plain": [
       "id                                   0\n",
       "name                                 7\n",
       "host_id                              0\n",
       "host_name                            8\n",
       "neighbourhood_group                  0\n",
       "neighbourhood                        0\n",
       "latitude                             0\n",
       "longitude                            0\n",
       "room_type                            0\n",
       "price                                0\n",
       "minimum_nights                       0\n",
       "number_of_reviews                    0\n",
       "last_review                       3758\n",
       "reviews_per_month                 3758\n",
       "calculated_host_listings_count       0\n",
       "availability_365                     0\n",
       "dtype: int64"
      ]
     },
     "execution_count": 12,
     "metadata": {},
     "output_type": "execute_result"
    }
   ],
   "source": [
    "df.isna().sum()"
   ]
  },
  {
   "cell_type": "code",
   "execution_count": 13,
   "id": "1eebbaf4-ffa1-4712-a193-463edbd5740d",
   "metadata": {},
   "outputs": [
    {
     "name": "stdout",
     "output_type": "stream",
     "text": [
      "Missing cells (%): 2.47717225409189\n"
     ]
    }
   ],
   "source": [
    "print(f\"Missing cells (%): {df.isna().sum().sum()/(df.shape[0]*df.shape[1])*100}\")"
   ]
  },
  {
   "cell_type": "markdown",
   "id": "4160c912-5317-4e1c-adde-f438fe80b387",
   "metadata": {},
   "source": [
    "### Fix feature data type"
   ]
  },
  {
   "cell_type": "code",
   "execution_count": 14,
   "id": "61555b1f-4494-4c5a-b3cc-44b05d04e534",
   "metadata": {},
   "outputs": [
    {
     "name": "stdout",
     "output_type": "stream",
     "text": [
      "<class 'pandas.core.frame.DataFrame'>\n",
      "Index: 19001 entries, 0 to 19999\n",
      "Data columns (total 16 columns):\n",
      " #   Column                          Non-Null Count  Dtype         \n",
      "---  ------                          --------------  -----         \n",
      " 0   id                              19001 non-null  int64         \n",
      " 1   name                            18994 non-null  object        \n",
      " 2   host_id                         19001 non-null  int64         \n",
      " 3   host_name                       18993 non-null  object        \n",
      " 4   neighbourhood_group             19001 non-null  object        \n",
      " 5   neighbourhood                   19001 non-null  object        \n",
      " 6   latitude                        19001 non-null  float64       \n",
      " 7   longitude                       19001 non-null  float64       \n",
      " 8   room_type                       19001 non-null  object        \n",
      " 9   price                           19001 non-null  int64         \n",
      " 10  minimum_nights                  19001 non-null  int64         \n",
      " 11  number_of_reviews               19001 non-null  int64         \n",
      " 12  last_review                     15243 non-null  datetime64[ns]\n",
      " 13  reviews_per_month               15243 non-null  float64       \n",
      " 14  calculated_host_listings_count  19001 non-null  int64         \n",
      " 15  availability_365                19001 non-null  int64         \n",
      "dtypes: datetime64[ns](1), float64(3), int64(7), object(5)\n",
      "memory usage: 2.5+ MB\n"
     ]
    }
   ],
   "source": [
    "# Convert last_review to datetime\n",
    "df['last_review'] = pd.to_datetime(df['last_review'])\n",
    "\n",
    "df.info()"
   ]
  },
  {
   "cell_type": "markdown",
   "id": "4cf33974-788f-4b78-a7b3-2d152078ced7",
   "metadata": {},
   "source": [
    "### Plot hist and missing value"
   ]
  },
  {
   "cell_type": "code",
   "execution_count": 18,
   "id": "b9bf8599-f5ed-4f6d-b787-eb0dfb64fcae",
   "metadata": {},
   "outputs": [
    {
     "ename": "UsageError",
     "evalue": "Run (0uaqzso2) is finished. The call to `log_artifact` will be ignored. Please make sure that you are using an active run.",
     "output_type": "error",
     "traceback": [
      "\u001b[0;31m---------------------------------------------------------------------------\u001b[0m",
      "\u001b[0;31mUsageError\u001b[0m                                Traceback (most recent call last)",
      "Cell \u001b[0;32mIn[18], line 27\u001b[0m\n\u001b[1;32m     21\u001b[0m artifact \u001b[38;5;241m=\u001b[39m wandb\u001b[38;5;241m.\u001b[39mArtifact(\n\u001b[1;32m     22\u001b[0m     name\u001b[38;5;241m=\u001b[39mfilename, \n\u001b[1;32m     23\u001b[0m     \u001b[38;5;28mtype\u001b[39m\u001b[38;5;241m=\u001b[39m\u001b[38;5;124m\"\u001b[39m\u001b[38;5;124mreport\u001b[39m\u001b[38;5;124m\"\u001b[39m, \n\u001b[1;32m     24\u001b[0m     description\u001b[38;5;241m=\u001b[39m\u001b[38;5;124m\"\u001b[39m\u001b[38;5;124mAvailability histogram.\u001b[39m\u001b[38;5;124m\"\u001b[39m\n\u001b[1;32m     25\u001b[0m )\n\u001b[1;32m     26\u001b[0m artifact\u001b[38;5;241m.\u001b[39madd_file(filename)\n\u001b[0;32m---> 27\u001b[0m \u001b[43mrun\u001b[49m\u001b[38;5;241;43m.\u001b[39;49m\u001b[43mlog_artifact\u001b[49m\u001b[43m(\u001b[49m\u001b[43martifact\u001b[49m\u001b[43m)\u001b[49m\n",
      "File \u001b[0;32m~/anaconda3/envs/mlflow-84148f05d289e10a1a42bc9db9ddd8a69c1e1c4c/lib/python3.10/site-packages/wandb/sdk/wandb_run.py:402\u001b[0m, in \u001b[0;36m_run_decorator._noop_on_finish.<locals>.decorator_fn.<locals>.wrapper_fn\u001b[0;34m(self, *args, **kwargs)\u001b[0m\n\u001b[1;32m    400\u001b[0m     warnings\u001b[38;5;241m.\u001b[39mwarn(resolved_message, \u001b[38;5;167;01mUserWarning\u001b[39;00m, stacklevel\u001b[38;5;241m=\u001b[39m\u001b[38;5;241m2\u001b[39m)\n\u001b[1;32m    401\u001b[0m \u001b[38;5;28;01melse\u001b[39;00m:\n\u001b[0;32m--> 402\u001b[0m     \u001b[38;5;28;01mraise\u001b[39;00m UsageError(resolved_message)\n",
      "\u001b[0;31mUsageError\u001b[0m: Run (0uaqzso2) is finished. The call to `log_artifact` will be ignored. Please make sure that you are using an active run."
     ]
    }
   ],
   "source": [
    "filename = 'nan.png'\n",
    "plt.figure(10)\n",
    "\n",
    "# Check for NaN values\n",
    "missing_values = df.isnull()\n",
    "\n",
    "# Plot a heatmap of NaN values\n",
    "plt.figure(figsize=(8, 5))\n",
    "sns.heatmap(missing_values, \n",
    "            cbar=False,     # remove color bar\n",
    "            cmap='Purples', # color map (choose any you like)\n",
    "            yticklabels=False) # hide row labels if you want\n",
    "plt.title(\"Missing Values for Each Feature\")\n",
    "plt.xlabel(\"Features\")\n",
    "plt.ylabel(\"\")\n",
    "\n",
    "plt.tight_layout()\n",
    "plt.savefig(filename)\n",
    "plt.close()\n",
    "\n",
    "artifact = wandb.Artifact(\n",
    "    name=filename, \n",
    "    type=\"report\", \n",
    "    description=\"Availability histogram.\"\n",
    ")\n",
    "artifact.add_file(filename)\n",
    "run.log_artifact(artifact)"
   ]
  },
  {
   "cell_type": "code",
   "execution_count": 16,
   "id": "1c643b84-4f19-47b7-8bee-3ae4e91b0bc4",
   "metadata": {},
   "outputs": [
    {
     "data": {
      "text/plain": [
       "<Artifact price_hist_range.png>"
      ]
     },
     "execution_count": 16,
     "metadata": {},
     "output_type": "execute_result"
    }
   ],
   "source": [
    "filename = 'price_hist_range.png'\n",
    "plt.figure(1)\n",
    "sns.histplot(df['price'])\n",
    "plt.tight_layout()\n",
    "plt.savefig(filename)\n",
    "plt.close()\n",
    "\n",
    "artifact = wandb.Artifact(\n",
    "    name=filename, \n",
    "    type=\"report\", \n",
    "    description=\"Price histogram after removing outliers.\"\n",
    ")\n",
    "artifact.add_file(filename)\n",
    "run.log_artifact(artifact)"
   ]
  },
  {
   "cell_type": "code",
   "execution_count": 19,
   "id": "2662eeef-b4ce-4fd2-9808-e47107cdf519",
   "metadata": {},
   "outputs": [],
   "source": [
    "run.finish()"
   ]
  },
  {
   "cell_type": "code",
   "execution_count": null,
   "id": "06409dae-7ab3-457c-819d-c6867393d7cd",
   "metadata": {},
   "outputs": [],
   "source": []
  }
 ],
 "metadata": {
  "kernelspec": {
   "display_name": "Python 3 (ipykernel)",
   "language": "python",
   "name": "python3"
  },
  "language_info": {
   "codemirror_mode": {
    "name": "ipython",
    "version": 3
   },
   "file_extension": ".py",
   "mimetype": "text/x-python",
   "name": "python",
   "nbconvert_exporter": "python",
   "pygments_lexer": "ipython3",
   "version": "3.10.16"
  }
 },
 "nbformat": 4,
 "nbformat_minor": 5
}
